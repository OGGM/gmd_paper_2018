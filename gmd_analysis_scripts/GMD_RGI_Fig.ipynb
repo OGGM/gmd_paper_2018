{
 "cells": [
  {
   "cell_type": "markdown",
   "metadata": {},
   "source": [
    "<img src=\"https://raw.githubusercontent.com/OGGM/oggm/master/docs/_static/logo.png\" width=\"40%\"  align=\"left\">"
   ]
  },
  {
   "cell_type": "code",
   "execution_count": null,
   "metadata": {},
   "outputs": [],
   "source": [
    "from __init__ import DATA_DIR, PLOT_DIR"
   ]
  },
  {
   "cell_type": "code",
   "execution_count": null,
   "metadata": {},
   "outputs": [],
   "source": [
    "%matplotlib inline"
   ]
  },
  {
   "cell_type": "code",
   "execution_count": null,
   "metadata": {},
   "outputs": [],
   "source": [
    "import geopandas as gpd\n",
    "import pandas as pd\n",
    "import numpy as np\n",
    "import glob, os\n",
    "import salem\n",
    "import matplotlib.pyplot as plt\n",
    "import seaborn as sns\n",
    "from oggm import utils\n",
    "import cartopy\n",
    "import cartopy.crs as ccrs\n",
    "sns.set_context('poster')\n",
    "sns.set_style('whitegrid')"
   ]
  },
  {
   "cell_type": "code",
   "execution_count": null,
   "metadata": {},
   "outputs": [],
   "source": [
    "if sns.__version__ != '0.8.1':\n",
    "    raise ImportError('These scripts need seaborn version 0.8.1 to work properly!')"
   ]
  },
  {
   "cell_type": "code",
   "execution_count": null,
   "metadata": {},
   "outputs": [],
   "source": [
    "# Get the RGI\n",
    "frgi = '/home/mowglie/Documents/OGGM_Experiments/rgi60_allglaciers.csv'\n",
    "rgi_dir = utils.get_rgi_dir(version='6')\n",
    "if not os.path.exists(frgi):\n",
    "    # one time action only\n",
    "    fs = list(sorted(glob.glob(rgi_dir + \"/*/*_rgi60_*.shp\")))[2:]\n",
    "    out = []\n",
    "    for f in fs:\n",
    "        sh = gpd.read_file(f).set_index('RGIId')\n",
    "        del sh['geometry']\n",
    "        out.append(sh)\n",
    "    mdf = pd.concat(out)\n",
    "    mdf.to_csv(frgi)\n",
    "mdf = pd.read_csv(frgi, index_col=0, converters={'Form': str, 'TermType': str, 'RGIFlag':str, 'BgnDate':str, \n",
    "                                                 'EndDate':str, 'O1Region': str, 'O2Region':str, 'Name':str})\n",
    "mdf['RGI_REG'] = [rid.split('-')[1].split('.')[0] for rid in mdf.index]\n",
    "# Read glacier attrs\n",
    "gtkeys = {'0': 'Glacier',\n",
    "          '1': 'Ice cap',\n",
    "          '2': 'Perennial snowfield',\n",
    "          '3': 'Seasonal snowfield',\n",
    "          '9': 'Not assigned',\n",
    "          }\n",
    "ttkeys = {'0': 'Land-terminating',\n",
    "          '1': 'Marine-terminating',\n",
    "          '2': 'Lake-terminating',\n",
    "          '3': 'Dry calving',\n",
    "          '4': 'Regenerated',\n",
    "          '5': 'Shelf-terminating',\n",
    "          '9': 'Not assigned',\n",
    "          }\n",
    "mdf['GlacierType'] = [gtkeys[g] for g in mdf.Form]\n",
    "mdf['TerminusType'] = [ttkeys[g] for g in mdf.TermType]\n",
    "mdf['IsTidewater'] = [ttype in ['Marine-terminating', 'Lake-terminating'] for ttype in mdf.TerminusType]\n",
    "mdf['RGIId'] = mdf.index.values"
   ]
  },
  {
   "cell_type": "code",
   "execution_count": null,
   "metadata": {},
   "outputs": [],
   "source": [
    "df = salem.read_shapefile('/home/mowglie/disk/Data/GIS/SHAPES/RGI/RGI_V6/00_rgi60_regions/00_rgi60_O1Regions.shp')"
   ]
  },
  {
   "cell_type": "code",
   "execution_count": null,
   "metadata": {},
   "outputs": [],
   "source": [
    "fac = 5\n",
    "mdf['CenLonC'] = np.round(mdf.CenLon * fac).astype(int)\n",
    "mdf['CenLatC'] = np.round(mdf.CenLat * fac).astype(int)\n",
    "mdf['CenC'] = ['{}_{}'.format(lon, lat) for lon, lat in zip(mdf['CenLonC'], mdf['CenLatC'])]"
   ]
  },
  {
   "cell_type": "code",
   "execution_count": null,
   "metadata": {},
   "outputs": [],
   "source": [
    "selids = []\n",
    "for i, g in mdf.groupby('CenC'):\n",
    "    dis = (g.CenLon - g.CenLonC/fac)**2 + (g.CenLat - g.CenLatC/fac)**2\n",
    "    selids.append(dis.idxmin())"
   ]
  },
  {
   "cell_type": "code",
   "execution_count": null,
   "metadata": {},
   "outputs": [],
   "source": [
    "smdf = mdf.loc[selids]\n",
    "len(smdf)"
   ]
  },
  {
   "cell_type": "code",
   "execution_count": null,
   "metadata": {},
   "outputs": [],
   "source": [
    "from oggm import utils\n",
    "dfr = pd.read_csv(utils.get_demo_file('oggm_ref_tstars_rgi6_cru4.csv'), index_col=0)\n",
    "dfr.columns"
   ]
  },
  {
   "cell_type": "code",
   "execution_count": null,
   "metadata": {},
   "outputs": [],
   "source": [
    "f = plt.figure(figsize=(12, 7))\n",
    "ax = plt.axes(projection=ccrs.PlateCarree())\n",
    "ax.set_extent([-180, 180, -90, 90], crs=ccrs.PlateCarree())\n",
    "ax.stock_img()\n",
    "# ax.add_feature(cartopy.feature.COASTLINE\n",
    "# ax.coastlines('50m')\n",
    "\n",
    "ax.scatter(smdf.CenLon.values, smdf.CenLat.values, color='C3', marker='.', s=3)\n",
    "ax.scatter(dfr.lon.values, dfr.lat.values, edgecolor='k', facecolor='tab:cyan', s=24)\n",
    "\n",
    "df.plot(ax=ax, transform=ccrs.PlateCarree(), edgecolor='k', facecolor='w', alpha=0.3);\n",
    "df.plot(ax=ax, transform=ccrs.PlateCarree(), edgecolor='k', facecolor='none', linewidth=2);\n",
    "\n",
    "did1 = False\n",
    "did10 = False\n",
    "for i, r in df.iterrows():\n",
    "    tx = r.min_x + 2\n",
    "    ty = r.min_y + 2\n",
    "    fs = 12\n",
    "    t = r.RGI_CODE\n",
    "    if t == 1:\n",
    "        tx = r.min_x + 35\n",
    "        if did1:\n",
    "            continue\n",
    "        did1 = True\n",
    "    if t == 5:\n",
    "        tx = r.min_x + 19\n",
    "    if t == 6:\n",
    "        ty = r.min_y - 7.\n",
    "    if t == 8:\n",
    "        tx = r.min_x + 26\n",
    "    if t == 11:\n",
    "        tx = r.min_x - 8.5\n",
    "    if t == 10:\n",
    "        ty = r.min_y + 17\n",
    "        if not did10:\n",
    "            did10 = True\n",
    "            continue\n",
    "    if t == 13:\n",
    "        ty = r.min_y + 11\n",
    "        tx = r.min_x + 18\n",
    "    if t == 15:\n",
    "        tx = r.min_x + 21\n",
    "    if t == 17:\n",
    "        ty = r.min_y + 25\n",
    "    if t == 18:\n",
    "        ty = r.min_y + 17\n",
    "        \n",
    "    ax.text(tx, ty, t, transform=ccrs.PlateCarree(), \n",
    "            ha='left', va='bottom', fontsize=fs, \n",
    "            bbox=dict(facecolor='w', edgecolor='k', alpha=0.7))\n",
    "\n",
    "plt.tight_layout();\n",
    "plt.savefig(os.path.join(PLOT_DIR, 'rgi_overview_a.pdf'), bbox_inches='tight')"
   ]
  },
  {
   "cell_type": "code",
   "execution_count": null,
   "metadata": {},
   "outputs": [],
   "source": [
    "area_per_reg = mdf[['Area', 'O1Region']].groupby('O1Region').sum()"
   ]
  },
  {
   "cell_type": "code",
   "execution_count": null,
   "metadata": {},
   "outputs": [],
   "source": [
    "n, _ = utils.parse_rgi_meta('6')\n",
    "area_per_reg['RegName'] = ['{:02d}: {} '.format(int(i), n.loc[int(i)].values[0]) for i in area_per_reg.index]\n",
    "area_per_reg = area_per_reg.sort_values(by='RegName')"
   ]
  },
  {
   "cell_type": "code",
   "execution_count": null,
   "metadata": {},
   "outputs": [],
   "source": [
    "area_per_reg['Area'] = area_per_reg['Area']\n",
    "area_per_reg['Area (% of global)'] = area_per_reg['Area'] / area_per_reg.Area.sum() * 100"
   ]
  },
  {
   "cell_type": "code",
   "execution_count": null,
   "metadata": {},
   "outputs": [],
   "source": [
    "area_per_reg['N Glaciers'] = mdf.groupby('O1Region').count().Name"
   ]
  },
  {
   "cell_type": "code",
   "execution_count": null,
   "metadata": {},
   "outputs": [],
   "source": [
    "dfe = pd.read_csv(DATA_DIR + 'error_summary.csv', index_col=0)\n",
    "dfe = dfe.groupby('rgi_region').sum()\n",
    "dfe.index = ['{:02d}'.format(int(s)) for s in dfe.index]\n",
    "area_per_reg['ErrorArea'] = dfe.rgi_area_km2"
   ]
  },
  {
   "cell_type": "code",
   "execution_count": null,
   "metadata": {},
   "outputs": [],
   "source": [
    "area_per_reg"
   ]
  },
  {
   "cell_type": "code",
   "execution_count": null,
   "metadata": {},
   "outputs": [],
   "source": [
    "area_per_reg['OGGM errors (% area)'] = area_per_reg['ErrorArea'] / area_per_reg['Area'] * 100"
   ]
  },
  {
   "cell_type": "code",
   "execution_count": null,
   "metadata": {
    "scrolled": true
   },
   "outputs": [],
   "source": [
    "f, (ax1, ax2, ax3) = plt.subplots(1, 3, sharey=True, figsize=(12, 5))\n",
    "sns.barplot(ax=ax1, x=\"N Glaciers\", y=\"RegName\", data=area_per_reg, color='Grey');\n",
    "sns.barplot(ax=ax2, x=\"Area (% of global)\", y=\"RegName\", data=area_per_reg, color='Grey');\n",
    "sns.barplot(ax=ax3, x=\"OGGM errors (% area)\", y=\"RegName\", data=area_per_reg, color='Grey');\n",
    "ax3.text(0.01, 0.01, 'NA', transform=ax3.transAxes, fontsize=14)\n",
    "ax1.set_ylabel('')\n",
    "ax2.set_ylabel('')\n",
    "ax3.set_ylabel('')\n",
    "r = ax1.set_yticklabels(area_per_reg.RegName, ha='left')\n",
    "plt.draw()\n",
    "yax = ax1.get_yaxis()\n",
    "pad = max(T.label.get_window_extent().width for T in yax.majorTicks)\n",
    "yax.set_tick_params(pad=pad)\n",
    "plt.tight_layout();\n",
    "plt.savefig(os.path.join(PLOT_DIR, 'rgi_overview_b.pdf'), bbox_inches='tight');"
   ]
  },
  {
   "cell_type": "code",
   "execution_count": null,
   "metadata": {},
   "outputs": [],
   "source": []
  }
 ],
 "metadata": {
  "hide_input": false,
  "kernelspec": {
   "display_name": "Python 3",
   "language": "python",
   "name": "python3"
  },
  "language_info": {
   "codemirror_mode": {
    "name": "ipython",
    "version": 3
   },
   "file_extension": ".py",
   "mimetype": "text/x-python",
   "name": "python",
   "nbconvert_exporter": "python",
   "pygments_lexer": "ipython3",
   "version": "3.5.2"
  },
  "toc": {
   "base_numbering": 1,
   "nav_menu": {},
   "number_sections": false,
   "sideBar": true,
   "skip_h1_title": true,
   "title_cell": "Table of Contents",
   "title_sidebar": "Contents",
   "toc_cell": false,
   "toc_position": {},
   "toc_section_display": true,
   "toc_window_display": false
  }
 },
 "nbformat": 4,
 "nbformat_minor": 1
}
