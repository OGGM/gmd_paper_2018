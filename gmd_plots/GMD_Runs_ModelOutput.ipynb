{
 "cells": [
  {
   "cell_type": "markdown",
   "metadata": {},
   "source": [
    "<img src=\"https://raw.githubusercontent.com/OGGM/oggm/master/docs/_static/logo.png\" width=\"40%\"  align=\"left\">"
   ]
  },
  {
   "cell_type": "code",
   "execution_count": null,
   "metadata": {},
   "outputs": [],
   "source": [
    "import pandas as pd\n",
    "import os\n",
    "import numpy as np\n",
    "import matplotlib.pyplot as plt\n",
    "import salem\n",
    "import seaborn as sns\n",
    "import xarray as xr\n",
    "from scipy import optimize as optimization\n",
    "from collections import OrderedDict\n",
    "%matplotlib inline"
   ]
  },
  {
   "cell_type": "markdown",
   "metadata": {},
   "source": [
    "## Errors "
   ]
  },
  {
   "cell_type": "code",
   "execution_count": null,
   "metadata": {},
   "outputs": [],
   "source": [
    "dfe = pd.read_csv('/home/mowglie/disk/OGGM_Output/list_errors.csv', index_col=0)"
   ]
  },
  {
   "cell_type": "markdown",
   "metadata": {},
   "source": [
    "### Glacier start volume for later "
   ]
  },
  {
   "cell_type": "code",
   "execution_count": null,
   "metadata": {},
   "outputs": [],
   "source": [
    "dd = '/home/mowglie/disk/OGGM_Output/run_output_summary'\n",
    "rgi_regs = ['rgi_reg_{:02}'.format(p) for p in np.arange(1, 19)]\n",
    "df = []\n",
    "for r in rgi_regs:\n",
    "    p = os.path.join(dd, r, 'glacier_characteristics.csv')\n",
    "    _df = pd.read_csv(p, index_col=0, low_memory=False)\n",
    "    _df['rgi_reg'] = r[-2:]\n",
    "    df.append(_df)\n",
    "vdf = pd.concat(df)"
   ]
  },
  {
   "cell_type": "code",
   "execution_count": null,
   "metadata": {},
   "outputs": [],
   "source": [
    "vdf = vdf.loc[~vdf.index.isin(dfe.index)]\n",
    "assert np.all(~vdf.inv_volume_km3.isnull())"
   ]
  },
  {
   "cell_type": "markdown",
   "metadata": {},
   "source": [
    "# Read in model output global"
   ]
  },
  {
   "cell_type": "code",
   "execution_count": null,
   "metadata": {},
   "outputs": [],
   "source": [
    "cols = ['run_output_rdn_2000', \n",
    "        'run_output_rdn_2000_tbias_m05', \n",
    "        'run_output_rdn_2000_tbias_p05',\n",
    "        'run_output_rdn_tstar',\n",
    "        'run_output_rect_rdn_tstar',\n",
    "       ]"
   ]
  },
  {
   "cell_type": "code",
   "execution_count": null,
   "metadata": {
    "scrolled": true
   },
   "outputs": [],
   "source": [
    "dd = '/home/mowglie/disk/OGGM_Output/run_output_summary'\n",
    "rgi_regs = ['rgi_reg_{:02}'.format(p) for p in np.arange(1, 19)]\n",
    "out = OrderedDict()\n",
    "for r in rgi_regs:\n",
    "    _df = pd.DataFrame()\n",
    "    for c in cols:\n",
    "        p = os.path.join(dd, r, c + '.nc')\n",
    "        with xr.open_dataset(p) as ds:\n",
    "            vol = ds.volume.load().isel(rgi_id=~ds.rgi_id.to_series().isin(dfe.index))\n",
    "            vol = vol.sum(dim='rgi_id').to_series() * 1e-9\n",
    "        _df[c] = vol\n",
    "    out[r] = _df"
   ]
  },
  {
   "cell_type": "code",
   "execution_count": null,
   "metadata": {},
   "outputs": [],
   "source": [
    "tdf = out[rgi_regs[0]]\n",
    "for r in rgi_regs[1:]:\n",
    "    tdf = tdf + out[r]"
   ]
  },
  {
   "cell_type": "code",
   "execution_count": null,
   "metadata": {},
   "outputs": [],
   "source": [
    "(tdf * 1e9 / 3.62e14).plot();"
   ]
  },
  {
   "cell_type": "code",
   "execution_count": null,
   "metadata": {},
   "outputs": [],
   "source": [
    "(tdf / tdf.iloc[0]).plot();"
   ]
  },
  {
   "cell_type": "code",
   "execution_count": null,
   "metadata": {},
   "outputs": [],
   "source": [
    "(tdf / tdf.iloc[0]).iloc[-1]"
   ]
  },
  {
   "cell_type": "markdown",
   "metadata": {},
   "source": [
    "### Sorted per volume"
   ]
  },
  {
   "cell_type": "code",
   "execution_count": null,
   "metadata": {},
   "outputs": [],
   "source": [
    "cs = vdf.inv_volume_km3.sort_values().cumsum()\n",
    "cs.plot();"
   ]
  },
  {
   "cell_type": "code",
   "execution_count": null,
   "metadata": {},
   "outputs": [],
   "source": [
    "percs = np.array([1/4, 3/4]) * cs.iloc[-1]\n",
    "percs"
   ]
  },
  {
   "cell_type": "code",
   "execution_count": null,
   "metadata": {},
   "outputs": [],
   "source": [
    "ids_1 = cs.loc[cs <= percs[0]].index\n",
    "ids_2 = cs.loc[(cs > percs[0]) & (cs <= percs[1])].index\n",
    "ids_3 = cs.loc[cs > percs[1]].index\n",
    "len(cs), len(ids_1), len(ids_2), len(ids_3)"
   ]
  },
  {
   "cell_type": "code",
   "execution_count": null,
   "metadata": {},
   "outputs": [],
   "source": [
    "dd = '/home/mowglie/disk/OGGM_Output/run_output_summary'\n",
    "rgi_regs = ['rgi_reg_{:02}'.format(p) for p in np.arange(1, 19)]\n",
    "\n",
    "tfd_perc = []\n",
    "for ids in [ids_1, ids_2, ids_3]:\n",
    "    out_per_reg = OrderedDict()\n",
    "    for r in rgi_regs:\n",
    "        _df = pd.DataFrame()\n",
    "        for c in cols:\n",
    "            p = os.path.join(dd, r, c + '.nc')\n",
    "            with xr.open_dataset(p) as ds:\n",
    "                vol = ds.volume.load().isel(rgi_id=ds.rgi_id.to_series().isin(ids))\n",
    "                vol = vol.sum(dim='rgi_id').to_series() * 1e-9\n",
    "            _df[c] = vol\n",
    "        out_per_reg[r] = _df\n",
    "        _tdf = out_per_reg[rgi_regs[0]]\n",
    "    for r in rgi_regs[1:]:\n",
    "        _tdf = _tdf + out_per_reg[r]\n",
    "    tfd_perc.append(_tdf)"
   ]
  },
  {
   "cell_type": "code",
   "execution_count": null,
   "metadata": {},
   "outputs": [],
   "source": [
    "sns.set_style('whitegrid')"
   ]
  },
  {
   "cell_type": "code",
   "execution_count": null,
   "metadata": {},
   "outputs": [],
   "source": [
    "titles = ['a: global', 'b: lower quartile', 'c: upper quartile']\n",
    "fi = 0.7\n",
    "f, axs = plt.subplots(1, 3, figsize=(11*fi, 4*fi), sharey=True)\n",
    "letkm = dict(color='black', ha='left', va='bottom',\n",
    "             bbox=dict(facecolor='w', alpha=1., edgecolor='lightgrey'))\n",
    "xt, yt = 0.027, 0.91\n",
    "for data, ax, t, tn in zip([tdf, tfd_perc[0], tfd_perc[-1]], axs, titles, [len(cs), len(ids_1), len(ids_3)]):\n",
    "    data = data.copy()\n",
    "    data.columns = ['1985-2015', '1985-2015 $-$0.5°C', '1985-2015 $+$0.5°C', 't*', 't* (rectangular)']\n",
    "    \n",
    "    for (c, a, col, s) in zip(data.columns, \n",
    "                 [1., 0.5, 0.5, 1, 1], \n",
    "                 ['k', 'C0', 'C3', 'rebeccapurple', 'mediumpurple'], \n",
    "                 ['-', '-', '-', '--', '--']):\n",
    "         (data / data.iloc[0])[c].plot(ax=ax, legend=False, \n",
    "                                   alpha=a,\n",
    "                                   color=col,\n",
    "                                   style=s);           \n",
    "    ax.set_xlabel('Years')\n",
    "    ax.set_xlim([0, 300])\n",
    "    ax.set_ylim([0.25, 1.3])\n",
    "    ax.text(xt, yt, t + ' N={}'.format(tn), **letkm, transform=ax.transAxes)\n",
    "    \n",
    "axs[0].set_ylabel('Fraction of initial volume');\n",
    "axs[2].legend(frameon=True, facecolor='white', framealpha=1, loc=(0, 0), fontsize=9);\n",
    "\n",
    "# Save\n",
    "plt.tight_layout()\n",
    "plt.savefig('/home/mowglie/disk/MyProjects/Papers/2017_OGGM/gmdd/figs/global_runs.pdf', dpi=300, bbox_inches='tight')"
   ]
  },
  {
   "cell_type": "code",
   "execution_count": null,
   "metadata": {},
   "outputs": [],
   "source": [
    "h = np.arange(300)\n",
    "w = np.sqrt(4*h/0.003)\n",
    "plt.plot(w)\n",
    "plt.figure();\n",
    "plt.plot(w[1:] - w[:-1]);"
   ]
  },
  {
   "cell_type": "code",
   "execution_count": null,
   "metadata": {},
   "outputs": [],
   "source": [
    "from oggm.utils import parse_rgi_meta"
   ]
  },
  {
   "cell_type": "code",
   "execution_count": null,
   "metadata": {},
   "outputs": [],
   "source": [
    "rname, _ = parse_rgi_meta(version='6')"
   ]
  },
  {
   "cell_type": "code",
   "execution_count": null,
   "metadata": {},
   "outputs": [],
   "source": [
    "letkm = dict(color='black', ha='left', va='bottom', fontsize=9, \n",
    "             bbox=dict(facecolor='w', alpha=.5, edgecolor='lightgrey'))\n",
    "xt, yt = 0.03, 0.04\n",
    "fi = 0.8\n",
    "f, axs = plt.subplots(6, 3, figsize=(8*fi, 12*fi), sharex=True)\n",
    "axs = axs.flatten()\n",
    "for i, r in enumerate(out.keys()):\n",
    "    df = out[r]\n",
    "    ax = axs[i]\n",
    "    df = df[['run_output_rdn_2000', 'run_output_rdn_2000_tbias_m05', 'run_output_rdn_2000_tbias_p05']].copy()\n",
    "    df.columns = ['1985-2015', '$-$0.5°C', '$+$0.5°C']\n",
    "    \n",
    "    _data = (df / 1000)\n",
    "    for (c, a, col, s) in zip(_data.columns, \n",
    "             [1., 0.5, 0.5], \n",
    "             ['k', 'C0', 'C3'], \n",
    "             ['-', '-', '-']):\n",
    "         _data[c].plot(ax=ax, legend=False, lw=2, \n",
    "                                   alpha=a,\n",
    "                                   color=col,\n",
    "                                   style=s);   \n",
    "    ax.set_xlim([0, 300])\n",
    "    ax.set_xlabel('')\n",
    "    ax.set_ylabel('')\n",
    "    \n",
    "    rc = r[-2:]\n",
    "    rn = rname.loc[int(rc)].values[0]\n",
    "    if 'Middle' in rn:\n",
    "        rn = 'Caucasus and ME'\n",
    "    rn = rn.replace(' and', ' &')\n",
    "    rn = rn.replace('Southern', 'S.')\n",
    "    rn = rn.replace('South', 'S.')\n",
    "    rn = rn.replace('North', 'N.')\n",
    "    rn = rn.replace('Western', 'W.')\n",
    "    ax.text(xt, yt, rc + ': ' + rn, **letkm, transform=ax.transAxes)\n",
    "    \n",
    "    mlim = 0\n",
    "    if rc in ['02']:\n",
    "        mlim = _data.min().min()*0.7\n",
    "    if rc in ['11', '16']:\n",
    "        mlim = 0.02\n",
    "    if rc in ['18']:\n",
    "        mlim = 0.01\n",
    "    \n",
    "    ax.set_ylim([_data.min().min()*0.7 - mlim, _data.max().max()*1.1])\n",
    "    \n",
    "    \n",
    "axs[0].text(-0.1, 1.1, 'Y-axis: 10$^{3}$ km$^{3}$    X-axis: years',\n",
    "             color='black', ha='left', va='bottom', transform=axs[0].transAxes)\n",
    "axs[1].legend(bbox_to_anchor=(1.3, 1.07), loc='lower center', ncol=3, borderaxespad=0.);\n",
    "plt.tight_layout()\n",
    "plt.subplots_adjust(top=0.94)\n",
    "plt.savefig('/home/mowglie/disk/MyProjects/Papers/2017_OGGM/gmdd/figs/global_reg_runs.pdf', dpi=300, bbox_inches='tight')"
   ]
  },
  {
   "cell_type": "code",
   "execution_count": null,
   "metadata": {},
   "outputs": [],
   "source": [
    "_data.min().min()"
   ]
  },
  {
   "cell_type": "markdown",
   "metadata": {},
   "source": [
    "### Commited "
   ]
  },
  {
   "cell_type": "code",
   "execution_count": null,
   "metadata": {},
   "outputs": [],
   "source": [
    "cdf = pd.DataFrame(index=out.keys())\n",
    "for i, r in enumerate(out.keys()):\n",
    "    df = out[r]\n",
    "    cdf.loc[r, 'Commited'] = df.run_output_rdn_2000.iloc[-1] / df.run_output_rdn_2000.iloc[0] \n",
    "cdf.sort_values(by='Commited')"
   ]
  },
  {
   "cell_type": "markdown",
   "metadata": {},
   "source": [
    "## Drift "
   ]
  },
  {
   "cell_type": "code",
   "execution_count": null,
   "metadata": {},
   "outputs": [],
   "source": [
    "ptdf = tdf / tdf.iloc[0]\n",
    "ptdf.plot();"
   ]
  },
  {
   "cell_type": "code",
   "execution_count": null,
   "metadata": {},
   "outputs": [],
   "source": [
    "ptdf.loc[[0, 100, 300]]"
   ]
  },
  {
   "cell_type": "code",
   "execution_count": null,
   "metadata": {},
   "outputs": [],
   "source": []
  }
 ],
 "metadata": {
  "kernelspec": {
   "display_name": "Python 3",
   "language": "python",
   "name": "python3"
  },
  "language_info": {
   "codemirror_mode": {
    "name": "ipython",
    "version": 3
   },
   "file_extension": ".py",
   "mimetype": "text/x-python",
   "name": "python",
   "nbconvert_exporter": "python",
   "pygments_lexer": "ipython3",
   "version": "3.5.2"
  }
 },
 "nbformat": 4,
 "nbformat_minor": 1
}
