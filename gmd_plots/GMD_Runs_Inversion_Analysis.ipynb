{
 "cells": [
  {
   "cell_type": "markdown",
   "metadata": {},
   "source": [
    "<img src=\"https://raw.githubusercontent.com/OGGM/oggm/master/docs/_static/logo.png\" width=\"40%\"  align=\"left\">"
   ]
  },
  {
   "cell_type": "code",
   "execution_count": null,
   "metadata": {},
   "outputs": [],
   "source": [
    "import pandas as pd\n",
    "import os, copy\n",
    "import numpy as np\n",
    "import matplotlib.pyplot as plt\n",
    "import salem\n",
    "import seaborn as sns\n",
    "from scipy import optimize\n",
    "from scipy import stats\n",
    "from matplotlib.colors import LogNorm\n",
    "from mpl_toolkits.axes_grid1 import make_axes_locatable\n",
    "from matplotlib.colorbar import ColorbarBase\n",
    "from salem.graphics import ExtendedNorm\n",
    "%matplotlib inline"
   ]
  },
  {
   "cell_type": "markdown",
   "metadata": {},
   "source": [
    "# Ref Table "
   ]
  },
  {
   "cell_type": "code",
   "execution_count": null,
   "metadata": {},
   "outputs": [],
   "source": [
    "# Get the RGI\n",
    "import geopandas as gpd\n",
    "import glob, os\n",
    "import oggm\n",
    "from oggm.utils import get_rgi_dir\n",
    "frgi = '/home/mowglie/Documents/OGGM_Experiments/rgi60_allglaciers.csv'\n",
    "rgi_dir = get_rgi_dir(version='6')\n",
    "if not os.path.exists(frgi):\n",
    "    # one time action only\n",
    "    fs = list(sorted(glob.glob(rgi_dir + \"/*/*_rgi60_*.shp\")))[2:]\n",
    "    out = []\n",
    "    for f in fs:\n",
    "        sh = gpd.read_file(f).set_index('RGIId')\n",
    "        del sh['geometry']\n",
    "        out.append(sh)\n",
    "    mdf = pd.concat(out)\n",
    "    mdf.to_csv(frgi)\n",
    "mdf = pd.read_csv(frgi, index_col=0, converters={'Form': str, 'TermType': str, 'RGIFlag':str, 'BgnDate':str, \n",
    "                                                 'EndDate':str, 'O1Region': str, 'O2Region':str, 'Name':str})\n",
    "mdf['RGI_REG'] = [rid.split('-')[1].split('.')[0] for rid in mdf.index]\n",
    "# Read glacier attrs\n",
    "gtkeys = {'0': 'Glacier',\n",
    "          '1': 'Ice cap',\n",
    "          '2': 'Perennial snowfield',\n",
    "          '3': 'Seasonal snowfield',\n",
    "          '9': 'Not assigned',\n",
    "          }\n",
    "ttkeys = {'0': 'Land-terminating',\n",
    "          '1': 'Marine-terminating',\n",
    "          '2': 'Lake-terminating',\n",
    "          '3': 'Dry calving',\n",
    "          '4': 'Regenerated',\n",
    "          '5': 'Shelf-terminating',\n",
    "          '9': 'Not assigned',\n",
    "          }\n",
    "mdf['GlacierType'] = [gtkeys[g] for g in mdf.Form]\n",
    "mdf['TerminusType'] = [ttkeys[g] for g in mdf.TermType]\n",
    "mdf['IsTidewater'] = [ttype in ['Marine-terminating', 'Lake-terminating'] for ttype in mdf.TerminusType]\n",
    "mdf['RGIId'] = mdf.index.values"
   ]
  },
  {
   "cell_type": "code",
   "execution_count": null,
   "metadata": {},
   "outputs": [],
   "source": [
    "mdfa = mdf.copy()"
   ]
  },
  {
   "cell_type": "code",
   "execution_count": null,
   "metadata": {},
   "outputs": [],
   "source": [
    "mdf = mdf.loc[mdf.RGI_REG != '19']\n",
    "print(len(mdf))"
   ]
  },
  {
   "cell_type": "markdown",
   "metadata": {},
   "source": [
    "# Errors "
   ]
  },
  {
   "cell_type": "code",
   "execution_count": null,
   "metadata": {},
   "outputs": [],
   "source": [
    "dfe = pd.read_csv('/home/mowglie/disk/OGGM_Output/list_errors.csv', index_col=0)"
   ]
  },
  {
   "cell_type": "markdown",
   "metadata": {},
   "source": [
    "# Read in glacier chars"
   ]
  },
  {
   "cell_type": "code",
   "execution_count": null,
   "metadata": {},
   "outputs": [],
   "source": [
    "dd = '/home/mowglie/disk/OGGM_Output/run_output_summary'\n",
    "rgi_regs = ['rgi_reg_{:02}'.format(p) for p in np.arange(1, 19)]\n",
    "df = []\n",
    "for r in rgi_regs:\n",
    "    p = os.path.join(dd, r, 'glacier_characteristics.csv')\n",
    "    _df = pd.read_csv(p, index_col=0, low_memory=False)\n",
    "    _df['rgi_reg'] = r[-2:]\n",
    "    df.append(_df)\n",
    "df = pd.concat(df)"
   ]
  },
  {
   "cell_type": "code",
   "execution_count": null,
   "metadata": {},
   "outputs": [],
   "source": [
    "df = df.loc[~df.index.isin(dfe.index)]\n",
    "assert np.all(~df.inv_volume_km3.isnull())"
   ]
  },
  {
   "cell_type": "code",
   "execution_count": null,
   "metadata": {},
   "outputs": [],
   "source": [
    "xlim, ylim = [1e-2, 1e4], [1e-5, 1e4]\n",
    "xlim_exp, ylim_exp = [-2, 4], [-5, 4]"
   ]
  },
  {
   "cell_type": "code",
   "execution_count": null,
   "metadata": {},
   "outputs": [],
   "source": [
    "ax = df.plot(kind='scatter', x='rgi_area_km2', y='inv_volume_km3')\n",
    "ax.semilogx()\n",
    "ax.semilogy()\n",
    "ax.set_xlim(xlim)\n",
    "ax.set_ylim(ylim);"
   ]
  },
  {
   "cell_type": "markdown",
   "metadata": {},
   "source": [
    "### Median AAR "
   ]
  },
  {
   "cell_type": "code",
   "execution_count": null,
   "metadata": {},
   "outputs": [],
   "source": [
    "other_aar = df.tstar_aar / (df.tstar_aar + 1)"
   ]
  },
  {
   "cell_type": "code",
   "execution_count": null,
   "metadata": {},
   "outputs": [],
   "source": [
    "other_aar.plot(kind='hist', bins=np.arange(101)/100);"
   ]
  },
  {
   "cell_type": "code",
   "execution_count": null,
   "metadata": {},
   "outputs": [],
   "source": [
    "other_aar.median(), other_aar.mean() "
   ]
  },
  {
   "cell_type": "code",
   "execution_count": null,
   "metadata": {},
   "outputs": [],
   "source": [
    "xvas = np.array([0.01, 1, 10, 100, 1000, 10000])\n",
    "vas = 0.034*(xvas**1.375)"
   ]
  },
  {
   "cell_type": "markdown",
   "metadata": {},
   "source": [
    "## Fit VAS"
   ]
  },
  {
   "cell_type": "code",
   "execution_count": null,
   "metadata": {},
   "outputs": [],
   "source": [
    "area = df.rgi_area_km2.values\n",
    "ref_v = df.inv_volume_km3.values\n",
    "def to_optimize(x):\n",
    "    v = x[0]*(area**x[1])\n",
    "    return np.sqrt(np.mean((v - ref_v)**2))\n",
    "fit_sqrt = optimize.minimize(to_optimize, [1., 1.])\n",
    "def to_optimize(x):\n",
    "    v = x[0]*(area**x[1])\n",
    "    return np.mean(np.abs(v - ref_v))\n",
    "fit_abs = optimize.minimize(to_optimize, [1., 1.])\n",
    "def to_optimize(x):\n",
    "    v = x[0]*(area**x[1])\n",
    "    return np.mean(np.abs(v - ref_v)/ref_v)\n",
    "fit_rel = optimize.minimize(to_optimize, [1., 1.])"
   ]
  },
  {
   "cell_type": "code",
   "execution_count": null,
   "metadata": {},
   "outputs": [],
   "source": [
    "# Fit in log space \n",
    "dfl = np.log(df[['inv_volume_km3', 'rgi_area_km2']])\n",
    "slope, intercept, r_value, p_value, std_err = stats.linregress(dfl.rgi_area_km2.values, dfl.inv_volume_km3.values)"
   ]
  },
  {
   "cell_type": "code",
   "execution_count": null,
   "metadata": {},
   "outputs": [],
   "source": [
    "print('VAS Obs', 1.375, 0.034)\n",
    "print('linfit in log', slope, np.exp(intercept))\n",
    "print('RMS fit', fit_sqrt['x'][1], fit_sqrt['x'][0])\n",
    "print('ABS fit', fit_abs['x'][1], fit_abs['x'][0])\n",
    "print('REL fit', fit_rel['x'][1], fit_rel['x'][0])"
   ]
  },
  {
   "cell_type": "code",
   "execution_count": null,
   "metadata": {},
   "outputs": [],
   "source": [
    "fit_1 = fit_sqrt['x'][0] * (xvas ** fit_sqrt['x'][1])\n",
    "fit_2 = fit_abs['x'][0] * (xvas ** fit_abs['x'][1])\n",
    "fit_3 = fit_rel['x'][0] * (xvas ** fit_rel['x'][1])\n",
    "fit_4 = np.exp(intercept) * (xvas ** slope)"
   ]
  },
  {
   "cell_type": "code",
   "execution_count": null,
   "metadata": {},
   "outputs": [],
   "source": [
    "f, ax = plt.subplots(1, 1, figsize=(8, 8))\n",
    "ax.plot(xvas, vas, label='VAS')\n",
    "ax.plot(xvas, fit_1, label='RMS')\n",
    "ax.plot(xvas, fit_2, label='ABS')\n",
    "ax.plot(xvas, fit_3, label='REL')\n",
    "ax.plot(xvas, fit_4, label='LIN')\n",
    "ax.semilogx()\n",
    "ax.semilogy()\n",
    "ax.set_xlim(xlim)\n",
    "ax.set_ylim(ylim)\n",
    "plt.legend();"
   ]
  },
  {
   "cell_type": "markdown",
   "metadata": {},
   "source": [
    "## SLE "
   ]
  },
  {
   "cell_type": "code",
   "execution_count": null,
   "metadata": {},
   "outputs": [],
   "source": [
    "mdfa['inv_volume_km3'] = df.inv_volume_km3\n",
    "ina = mdfa['inv_volume_km3'].isnull()\n",
    "mdfa.loc[ina, 'inv_volume_km3'] = np.exp(intercept) * mdfa.loc[ina, 'Area'] ** slope\n",
    "mdfa['vas_volume_km3'] = 0.034 * (mdfa.Area ** 1.375)"
   ]
  },
  {
   "cell_type": "code",
   "execution_count": null,
   "metadata": {},
   "outputs": [],
   "source": [
    "per_reg = mdfa.groupby('RGI_REG')['Area', 'vas_volume_km3', 'inv_volume_km3'].sum()\n",
    "regnames, _ = oggm.utils.parse_rgi_meta(version='6')\n",
    "per_reg['Name'] = regnames.values\n",
    "per_reg['Huss2012_vol'] = [20402., 1025, 34399, 9814, 19042, 4441, 9685, 256, 16839, 140, \n",
    "                           117, 61, 5026, 3241, 1312, 144, 6674, 70, 37517]\n",
    "per_reg['Huss2012_slr'] = [50.7,2.5,85.4,24.4,47.3,11.0,24.0,0.6,41.8,0.3,0.3,0.2,12.5,8.0,3.3,0.4,16.6,0.21,93.1]\n",
    "per_reg['Grinsted_slr'] = [44.6,2.6,61.7,15.2,47.0,8.7,13.3,0.8,33.8,0.5,0.3,0.2,23.7,9.5,4.1,0.3,11.7,0.3,75.1]\n",
    "per_reg['Grinsted_vol_from_slr'] = per_reg['Grinsted_slr'] / 1000 / 900 * (362*1e6)"
   ]
  },
  {
   "cell_type": "code",
   "execution_count": null,
   "metadata": {},
   "outputs": [],
   "source": [
    "per_reg.iloc[:-1][['Huss2012_vol', 'Grinsted_vol_from_slr', 'vas_volume_km3', 'inv_volume_km3']].sum()"
   ]
  },
  {
   "cell_type": "markdown",
   "metadata": {},
   "source": [
    "## Plot "
   ]
  },
  {
   "cell_type": "code",
   "execution_count": null,
   "metadata": {},
   "outputs": [],
   "source": [
    "dfs = np.log(df[['inv_volume_km3', 'rgi_area_km2']])"
   ]
  },
  {
   "cell_type": "code",
   "execution_count": null,
   "metadata": {},
   "outputs": [],
   "source": [
    "# Cmap norm\n",
    "norm = ExtendedNorm([1, 10, 100, 200, 500, 1000], ncolors=256, extend='max')\n",
    "cm = copy.deepcopy(plt.get_cmap('viridis'))\n",
    "cm.set_under('white')\n",
    "\n",
    "# Figure and plot\n",
    "f, ax = plt.subplots(1, 1, figsize=(7, 5))\n",
    "\n",
    "dfs.plot.hexbin(ax=ax, x=\"rgi_area_km2\", y=\"inv_volume_km3\", norm=norm, cmap=cm, \n",
    "                     colorbar=False, gridsize=70, linewidths=0.1);\n",
    "\n",
    "# Fit\n",
    "ax.plot(np.log(xvas), np.log(vas), '--', color='C1', label='VAS (Bahr et al.)', linewidth=1)\n",
    "ax.plot(np.log(xvas), np.log(fit_4), '--', color='C3', label='VAS (default OGGM)', linewidth=1)\n",
    "\n",
    "# Manipulate axes\n",
    "ax.set_xlim(np.log(xlim))\n",
    "ax.set_ylim(np.log(ylim))\n",
    "\n",
    "xt = [10.**e for e in np.arange(xlim_exp[0], xlim_exp[1]+1)]\n",
    "xl = [\"10$^{\"+\"{:d}\".format(int(x))+\"}$\" for x in np.arange(xlim_exp[0], xlim_exp[1]+1)]\n",
    "ax.set_xticks(np.log(xt))\n",
    "ax.set_xticklabels(xl)\n",
    "\n",
    "yt = [10.**e for e in np.arange(ylim_exp[0], ylim_exp[1]+1)]\n",
    "yl = [\"10$^{\"+\"{:d}\".format(int(x))+\"}$\" for x in np.arange(ylim_exp[0], ylim_exp[1]+1)]\n",
    "ax.set_yticks(np.log(yt))\n",
    "ax.set_yticklabels(yl)\n",
    "\n",
    "# Legend\n",
    "plt.legend();\n",
    "\n",
    "ax.set_xlabel('Area (km$^{2}$)')\n",
    "ax.set_ylabel('Volume (km$^{3}$)')\n",
    "\n",
    "# Colorbar\n",
    "cax = make_axes_locatable(ax).append_axes('right', size='5%', pad=0.5)\n",
    "ColorbarBase(cax, extend='max', orientation='vertical', cmap=cm, norm=norm, label='N Glaciers');"
   ]
  },
  {
   "cell_type": "markdown",
   "metadata": {},
   "source": [
    "## Deviations "
   ]
  },
  {
   "cell_type": "code",
   "execution_count": null,
   "metadata": {},
   "outputs": [],
   "source": [
    "df['oggm_vas'] = np.exp(intercept) * (df.rgi_area_km2 ** slope)\n",
    "df['diff_to_oggm_vas'] = (df.inv_volume_km3 - df.oggm_vas) / df.oggm_vas"
   ]
  },
  {
   "cell_type": "code",
   "execution_count": null,
   "metadata": {},
   "outputs": [],
   "source": [
    "df['diff_to_oggm_vas'].plot(kind='hist', bins=np.linspace(-3, 3, 100));"
   ]
  },
  {
   "cell_type": "code",
   "execution_count": null,
   "metadata": {},
   "outputs": [],
   "source": [
    "df.plot(kind='hexbin', x='diff_to_oggm_vas', y='tstar_avg_prcpsol_max_elev', sharex=False, norm=LogNorm());"
   ]
  },
  {
   "cell_type": "code",
   "execution_count": null,
   "metadata": {},
   "outputs": [],
   "source": [
    "df.plot(kind='hexbin', x='diff_to_oggm_vas', y='flowline_avg_slope', sharex=False, norm=LogNorm());"
   ]
  },
  {
   "cell_type": "code",
   "execution_count": null,
   "metadata": {},
   "outputs": [],
   "source": [
    "import statsmodels.api as sm"
   ]
  },
  {
   "cell_type": "code",
   "execution_count": null,
   "metadata": {},
   "outputs": [],
   "source": [
    "dfols = df[['flowline_avg_slope', 'tstar_avg_prcpsol_max_elev', \n",
    "            'tstar_avg_temp_min_elev', 'rgi_area_km2']].copy()\n",
    "dfols = (dfols - dfols.mean()) / dfols.std()\n",
    "dfols = sm.add_constant(dfols)"
   ]
  },
  {
   "cell_type": "code",
   "execution_count": null,
   "metadata": {},
   "outputs": [],
   "source": [
    "mod = sm.OLS(df.diff_to_oggm_vas, dfols)\n",
    "res = mod.fit()"
   ]
  },
  {
   "cell_type": "code",
   "execution_count": null,
   "metadata": {},
   "outputs": [],
   "source": [
    "res.summary()"
   ]
  },
  {
   "cell_type": "markdown",
   "metadata": {},
   "source": [
    "# Sensi "
   ]
  },
  {
   "cell_type": "code",
   "execution_count": null,
   "metadata": {},
   "outputs": [],
   "source": [
    "dd = '/home/mowglie/disk/OGGM_Output/run_output_summary'\n",
    "rgi_regs = ['rgi_reg_{:02}'.format(p) for p in np.arange(1, 19)]"
   ]
  },
  {
   "cell_type": "code",
   "execution_count": null,
   "metadata": {},
   "outputs": [],
   "source": [
    "patts = ['*istics_[0-9]*_nofs.csv', '*istics_[0-9]*_wfs.csv', '*rect_[0-9]*_nofs.csv', \n",
    "         '*parab_[0-9]*_nofs.csv', '*fsfac*.csv']\n",
    "names = ['def', 'wfs', 'rec', 'parab', 'fsfac']\n",
    "out = dict()\n",
    "for n, pattern in zip(names, patts):\n",
    "\n",
    "    exps = [f for f in sorted(glob.glob(dd+'/rgi_reg_01/' + pattern))]\n",
    "    assert len(exps) == 25\n",
    "\n",
    "    df_exp = []\n",
    "    if n == 'def':\n",
    "        a_fac = []\n",
    "    for exp in exps:\n",
    "        odf = []\n",
    "        for r in rgi_regs:\n",
    "            p = os.path.join(dd, r, os.path.basename(exp))\n",
    "            _df = pd.read_csv(p, index_col=0, low_memory=False)\n",
    "            _df = _df[['rgi_area_km2', 'inv_volume_km3', 'vas_volume_km3']].copy()\n",
    "            _df['rgi_reg'] = r[-2:]\n",
    "            odf.append(_df)\n",
    "        odf = pd.concat(odf)\n",
    "        odf = odf.loc[~odf.index.isin(dfe.index)]\n",
    "        assert np.all(~odf.inv_volume_km3.isnull())\n",
    "        df_exp.append(odf)\n",
    "        if n == 'def':\n",
    "            a_fac.append(float(exp.split('_')[-2])*0.1)\n",
    "    out[n] = df_exp"
   ]
  },
  {
   "cell_type": "code",
   "execution_count": null,
   "metadata": {},
   "outputs": [],
   "source": [
    "dftot = pd.DataFrame(index=a_fac)\n",
    "dftot['Default'] = [dfi.inv_volume_km3.sum() * 1e-5 for dfi in out['def']]\n",
    "dftot['Sliding'] = [dfi.inv_volume_km3.sum() * 1e-5 for dfi in out['wfs']]\n",
    "# dftot['Sliding (FS fac)'] = [dfi.inv_volume_km3.sum() * 1e-5 for dfi in out['fsfac']]\n",
    "dftot['Rectangular'] = [dfi.inv_volume_km3.sum() * 1e-5 for dfi in out['rec']]\n",
    "dftot['Parabolic'] = [dfi.inv_volume_km3.sum() * 1e-5 for dfi in out['parab']]\n",
    "dftot['VAS'] = [dfi.vas_volume_km3.sum() * 1e-5 for dfi in out['def']]"
   ]
  },
  {
   "cell_type": "code",
   "execution_count": null,
   "metadata": {},
   "outputs": [],
   "source": [
    "dftot['HF2012'] = [per_reg.iloc[:-1].Huss2012_vol.sum() * 1e-5 for dfi in out['def']]\n",
    "dftot['G2013'] = [per_reg.iloc[:-1].Grinsted_vol_from_slr.sum() * 1e-5 for dfi in out['def']]"
   ]
  },
  {
   "cell_type": "code",
   "execution_count": null,
   "metadata": {},
   "outputs": [],
   "source": [
    "# sanity\n",
    "dftot['VAS'].iloc[0] * 1e5 /  (362.5*1e6) * 1000"
   ]
  },
  {
   "cell_type": "code",
   "execution_count": null,
   "metadata": {},
   "outputs": [],
   "source": [
    "dftot['Parabolic'] / dftot['Rectangular']\n",
    "# dftot['Default'] / dftot['Rectangular']"
   ]
  },
  {
   "cell_type": "code",
   "execution_count": null,
   "metadata": {},
   "outputs": [],
   "source": [
    "dftot.plot();\n",
    "plt.ylabel('10$^5$ km$^3$');"
   ]
  },
  {
   "cell_type": "code",
   "execution_count": null,
   "metadata": {},
   "outputs": [],
   "source": [
    "outf = dict()\n",
    "for k in out.keys():\n",
    "    df_fit = pd.DataFrame(index=a_fac)\n",
    "    f1 = []\n",
    "    f2 = []\n",
    "    for dfi in out[k]:\n",
    "        # Fit in log space \n",
    "        dfl = np.log(dfi[['inv_volume_km3', 'rgi_area_km2']])\n",
    "        slope, intercept, _, _, _ = stats.linregress(dfl.rgi_area_km2.values, dfl.inv_volume_km3.values)\n",
    "        f1.append(np.exp(intercept))\n",
    "        f2.append(slope)\n",
    "    df_fit['c'] = f1\n",
    "    df_fit['gamma'] = f2\n",
    "    outf[k] = df_fit"
   ]
  },
  {
   "cell_type": "code",
   "execution_count": null,
   "metadata": {},
   "outputs": [],
   "source": [
    "for k in out.keys():\n",
    "    outf[k].plot(secondary_y='c');\n",
    "    plt.title(k);"
   ]
  },
  {
   "cell_type": "markdown",
   "metadata": {},
   "source": [
    "# Final plot"
   ]
  },
  {
   "cell_type": "code",
   "execution_count": null,
   "metadata": {},
   "outputs": [],
   "source": [
    "from mpl_toolkits.axes_grid1.inset_locator import inset_axes\n",
    "from mpl_toolkits.axes_grid1.anchored_artists import AnchoredSizeBar\n",
    "\n",
    "# Figure and plot\n",
    "pf = 0.85\n",
    "_, (ax, ax2) = plt.subplots(2, 1, figsize=(5.5*pf, 8*pf))\n",
    "\n",
    "# Cmap norm\n",
    "norm = ExtendedNorm([1, 10, 100, 200, 500, 1000], ncolors=256, extend='max')\n",
    "cm = copy.deepcopy(plt.get_cmap('viridis'))\n",
    "cm.set_under('white')\n",
    "\n",
    "\n",
    "dfs.plot.hexbin(ax=ax, x=\"rgi_area_km2\", y=\"inv_volume_km3\", norm=norm, cmap=cm, \n",
    "                     colorbar=False, gridsize=70, linewidths=0.1);\n",
    "\n",
    "# Fit\n",
    "ax.plot(np.log(xvas), np.log(vas), '--', color='C1', label='VAS (Bahr et al.)', linewidth=1.5)\n",
    "ax.plot(np.log(xvas), np.log(fit_4), '--', color='C3', label='VAS (default OGGM)', linewidth=1.5)\n",
    "\n",
    "# Manipulate axes\n",
    "ax.set_xlim(np.log(xlim))\n",
    "ax.set_ylim(np.log(ylim))\n",
    "\n",
    "xt = [10.**e for e in np.arange(xlim_exp[0], xlim_exp[1]+1)]\n",
    "xl = [\"10$^{\"+\"{:d}\".format(int(x))+\"}$\" for x in np.arange(xlim_exp[0], xlim_exp[1]+1)]\n",
    "ax.set_xticks(np.log(xt))\n",
    "ax.set_xticklabels(xl)\n",
    "\n",
    "yt = [10.**e for e in np.arange(ylim_exp[0], ylim_exp[1]+1)]\n",
    "yl = [\"10$^{\"+\"{:d}\".format(int(x))+\"}$\" for x in np.arange(ylim_exp[0], ylim_exp[1]+1)]\n",
    "ax.set_yticks(np.log(yt))\n",
    "ax.set_yticklabels(yl)\n",
    "\n",
    "# Legend\n",
    "ax.legend();\n",
    "\n",
    "ax.set_xlabel('Area (km$^{2}$)')\n",
    "ax.set_ylabel('Volume (km$^{3}$)')\n",
    "\n",
    "# Colorbar\n",
    "cax = inset_axes(ax, width=\"3%\", height=\"30%\", loc=4,\n",
    "                 bbox_to_anchor=(-.15, 0.03, 1, 2), \n",
    "                 bbox_transform=ax.transAxes) \n",
    "\n",
    "ColorbarBase(cax, extend='max', orientation='vertical', cmap=cm, norm=norm);\n",
    "cax.set_title('Glaciers', loc='left')\n",
    "\n",
    "# Second plot\n",
    "cs = plt.get_cmap('Purples')(np.linspace(0.4, 1, 4))\n",
    "dftot[['Rectangular', 'Default', 'Sliding', 'Parabolic']].plot(ax=ax2, color=cs);\n",
    "cs = plt.get_cmap('Reds')(np.linspace(0.4, 1, 3))\n",
    "dftot[['VAS', 'HF2012', 'G2013']].plot(ax=ax2, color=cs, style=':', alpha=0.8);\n",
    "\n",
    "ax2.set_ylim([0.5, 2.5])\n",
    "\n",
    "ax2.legend(ncol=2)\n",
    "\n",
    "ax2.set_xlabel('A factor')\n",
    "ax2.set_ylabel('Total Volume (10$^5$ km$^{3}$)')\n",
    "\n",
    "# Save\n",
    "plt.tight_layout()\n",
    "plt.savefig('/home/mowglie/disk/MyProjects/Papers/2017_OGGM/gmdd/figs/global_inv.pdf', dpi=300, bbox_inches='tight')"
   ]
  },
  {
   "cell_type": "code",
   "execution_count": null,
   "metadata": {},
   "outputs": [],
   "source": [
    "len(dfs)"
   ]
  },
  {
   "cell_type": "code",
   "execution_count": null,
   "metadata": {},
   "outputs": [],
   "source": []
  }
 ],
 "metadata": {
  "kernelspec": {
   "display_name": "Python 3",
   "language": "python",
   "name": "python3"
  },
  "language_info": {
   "codemirror_mode": {
    "name": "ipython",
    "version": 3
   },
   "file_extension": ".py",
   "mimetype": "text/x-python",
   "name": "python",
   "nbconvert_exporter": "python",
   "pygments_lexer": "ipython3",
   "version": "3.5.2"
  }
 },
 "nbformat": 4,
 "nbformat_minor": 1
}
